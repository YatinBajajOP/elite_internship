{
 "cells": [
  {
   "cell_type": "code",
   "execution_count": 5,
   "metadata": {},
   "outputs": [],
   "source": [
    "import json\n",
    "file = open(\"record.json\", 'r')\n",
    "data = file.read()\n",
    "file.close()"
   ]
  },
  {
   "cell_type": "code",
   "execution_count": 6,
   "metadata": {},
   "outputs": [
    {
     "name": "stdout",
     "output_type": "stream",
     "text": [
      "Enter the product_Id: 1501\n",
      "Enter the quantity: 5\n",
      "Product:  Bricks\n",
      "Price:  30\n",
      "Billing Amount:  150\n"
     ]
    }
   ],
   "source": [
    "record = json.loads(data)\n",
    "\n",
    "new_id = input(\"Enter the product_Id: \")\n",
    "new_quantity = int(input(\"Enter the quantity: \"))\n",
    "\n",
    "# For validating the number of product is more or not\n",
    "\n",
    "if(record[new_id]['amount'] >= new_quantity):\n",
    "    print(\"Product: \", record[new_id]['name'])\n",
    "    print(\"Price: \", record[new_id]['price'])\n",
    "    print(\"Billing Amount: \",\n",
    "          record[new_id]['price'] * new_quantity)\n",
    "    record[new_id]['amount'] = record[new_id]['amount'] - new_quantity\n",
    "\n",
    "    file = open(\"record.json\", 'w')\n",
    "    all_data = json.dumps(record)\n",
    "    file.write(all_data)\n",
    "    file.close()\n",
    "    # Opening sales.json data in read mode\n",
    "    sales_file = open(\"sales.json\", 'r')\n",
    "    sales_data = sales_file.read()\n",
    "    sales_file.close()\n",
    "    rec = json.loads(sales_data)\n",
    "    rec[len(record)+1] = {'name': record[new_id]['name'],'price': record[new_id]['price'], 'amount': new_quantity}\n",
    "    # Opening sales.json file in writing mode to update the sales product\n",
    "    sales_file = open(\"sales.json\", 'w')\n",
    "    all_data_sales = json.dumps(rec)\n",
    "    sales_file.write(all_data_sales)\n",
    "    sales_file.close()\n",
    "else:\n",
    "    print(\"Sorry!! We have only \" +\n",
    "          str(record[new_id]['amount'])+\" Product!!\")\n"
   ]
  },
  {
   "cell_type": "code",
   "execution_count": 7,
   "metadata": {},
   "outputs": [],
   "source": [
    "file = open(\"sales.json\", 'r')\n",
    "data = file.read()\n",
    "file.close()"
   ]
  },
  {
   "cell_type": "code",
   "execution_count": 8,
   "metadata": {},
   "outputs": [
    {
     "data": {
      "text/plain": [
       "{'1': {'name': 'Ropes', 'amount': 10, 'price': 500},\n",
       " '2': {'name': 'Water-taps', 'price': 75, 'amount': 127},\n",
       " '3': {'name': 'Paint thinner', 'price': 500, 'amount': 7},\n",
       " '4': {'name': 'PVC pipe', 'price': 150, 'amount': 15},\n",
       " '5': {'name': 'Water-proofing', 'price': 350, 'amount': 35},\n",
       " '6': {'name': 'steel rods', 'price': 250, 'amount': 160},\n",
       " '7': {'name': 'Household Hammers', 'price': 150, 'amount': 30},\n",
       " '8': {'name': 'Wooden Doors', 'price': 1200, 'amount': 12},\n",
       " '9': {'name': 'Bricks', 'price': 30, 'amount': 2000},\n",
       " '17': {'name': 'Bricks', 'price': 30, 'amount': 5}}"
      ]
     },
     "execution_count": 8,
     "metadata": {},
     "output_type": "execute_result"
    }
   ],
   "source": [
    "record = json.loads(data)\n",
    "record"
   ]
  }
 ],
 "metadata": {
  "kernelspec": {
   "display_name": "Python 3",
   "language": "python",
   "name": "python3"
  },
  "language_info": {
   "codemirror_mode": {
    "name": "ipython",
    "version": 3
   },
   "file_extension": ".py",
   "mimetype": "text/x-python",
   "name": "python",
   "nbconvert_exporter": "python",
   "pygments_lexer": "ipython3",
   "version": "3.8.3"
  }
 },
 "nbformat": 4,
 "nbformat_minor": 4
}
