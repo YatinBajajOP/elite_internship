{
 "cells": [
  {
   "cell_type": "code",
   "execution_count": 7,
   "metadata": {},
   "outputs": [],
   "source": [
    "import json\n",
    "fd = open(\"record.json\", \"r\")\n",
    "r = fd.read()\n",
    "fd.close()"
   ]
  },
  {
   "cell_type": "code",
   "execution_count": 8,
   "metadata": {},
   "outputs": [
    {
     "data": {
      "text/plain": [
       "{'1501': {'name': 'Bricks', 'price': 30, 'amount': 5000},\n",
       " '1502': {'name': 'Wooden Doors', 'price': 1200, 'amount': 100},\n",
       " '1503': {'name': 'Household Hammers', 'price': 150, 'amount': 200},\n",
       " '1504': {'name': 'Water-taps', 'price': 75, 'amount': 750},\n",
       " '1505': {'name': 'Ropes', 'price': 450.0, 'amount': 60},\n",
       " '1506': {'name': 'steel rods', 'price': 250, 'amount': 800},\n",
       " '1507': {'name': 'Paint thinner', 'price': 500, 'amount': 60},\n",
       " '1508': {'name': 'Nails/Screws', 'price': 30, 'amount': 1500},\n",
       " '1509': {'name': 'Nut-Bolts', 'price': 15, 'amount': 2500},\n",
       " '1510': {'name': 'Water-proofing', 'price': 350, 'amount': 75},\n",
       " '1511': {'name': 'Door lock', 'price': 85.5, 'amount': 125},\n",
       " '1512': {'name': 'Vehicle paint', 'price': 250.75, 'amount': 50},\n",
       " '1513': {'name': 'Plywoods', 'price': 260, 'amount': 15},\n",
       " '1514': {'name': 'Drum(50 ltr)', 'price': 450, 'amount': 10},\n",
       " '1515': {'name': 'PVC pipe', 'price': 150, 'amount': 90}}"
      ]
     },
     "execution_count": 8,
     "metadata": {},
     "output_type": "execute_result"
    }
   ],
   "source": [
    "record = json.loads(r)\n",
    "record"
   ]
  },
  {
   "cell_type": "code",
   "execution_count": 9,
   "metadata": {},
   "outputs": [
    {
     "name": "stdout",
     "output_type": "stream",
     "text": [
      "Enter product id:1516\n",
      "Enter product name:Mobile Phone\n",
      "Enter product price:10000\n",
      "Enter product amount:56\n"
     ]
    }
   ],
   "source": [
    "prod_id = str(input(\"Enter product id:\"))\n",
    "name = str(input(\"Enter product name:\"))\n",
    "price = int(input(\"Enter product price:\"))\n",
    "amount = int(input(\"Enter product amount:\"))"
   ]
  },
  {
   "cell_type": "code",
   "execution_count": 10,
   "metadata": {},
   "outputs": [],
   "source": [
    "record[prod_id] = {'name': name,'price': price, 'amount': amount}\n",
    "all_data = json.dumps(record)\n",
    "file = open(\"record.json\", 'w')\n",
    "file.write(all_data)\n",
    "file.close()"
   ]
  },
  {
   "cell_type": "code",
   "execution_count": 11,
   "metadata": {},
   "outputs": [],
   "source": [
    "fd = open(\"record.json\", \"r\")\n",
    "r = fd.read()\n",
    "fd.close()"
   ]
  },
  {
   "cell_type": "code",
   "execution_count": 12,
   "metadata": {},
   "outputs": [
    {
     "data": {
      "text/plain": [
       "{'1501': {'name': 'Bricks', 'price': 30, 'amount': 5000},\n",
       " '1502': {'name': 'Wooden Doors', 'price': 1200, 'amount': 100},\n",
       " '1503': {'name': 'Household Hammers', 'price': 150, 'amount': 200},\n",
       " '1504': {'name': 'Water-taps', 'price': 75, 'amount': 750},\n",
       " '1505': {'name': 'Ropes', 'price': 450.0, 'amount': 60},\n",
       " '1506': {'name': 'steel rods', 'price': 250, 'amount': 800},\n",
       " '1507': {'name': 'Paint thinner', 'price': 500, 'amount': 60},\n",
       " '1508': {'name': 'Nails/Screws', 'price': 30, 'amount': 1500},\n",
       " '1509': {'name': 'Nut-Bolts', 'price': 15, 'amount': 2500},\n",
       " '1510': {'name': 'Water-proofing', 'price': 350, 'amount': 75},\n",
       " '1511': {'name': 'Door lock', 'price': 85.5, 'amount': 125},\n",
       " '1512': {'name': 'Vehicle paint', 'price': 250.75, 'amount': 50},\n",
       " '1513': {'name': 'Plywoods', 'price': 260, 'amount': 15},\n",
       " '1514': {'name': 'Drum(50 ltr)', 'price': 450, 'amount': 10},\n",
       " '1515': {'name': 'PVC pipe', 'price': 150, 'amount': 90},\n",
       " '1516': {'name': 'Mobile Phone', 'price': 10000, 'amount': 56}}"
      ]
     },
     "execution_count": 12,
     "metadata": {},
     "output_type": "execute_result"
    }
   ],
   "source": [
    "record = json.loads(r)\n",
    "record"
   ]
  }
 ],
 "metadata": {
  "kernelspec": {
   "display_name": "Python 3",
   "language": "python",
   "name": "python3"
  },
  "language_info": {
   "codemirror_mode": {
    "name": "ipython",
    "version": 3
   },
   "file_extension": ".py",
   "mimetype": "text/x-python",
   "name": "python",
   "nbconvert_exporter": "python",
   "pygments_lexer": "ipython3",
   "version": "3.8.3"
  }
 },
 "nbformat": 4,
 "nbformat_minor": 4
}
